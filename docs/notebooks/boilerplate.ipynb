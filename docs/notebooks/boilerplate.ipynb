{
 "cells": [
  {
   "cell_type": "code",
   "execution_count": 11,
   "metadata": {},
   "outputs": [],
   "source": [
    "import json"
   ]
  },
  {
   "cell_type": "markdown",
   "metadata": {},
   "source": [
    "### md_metadata\n",
    "Metadata related to the metadata"
   ]
  },
  {
   "cell_type": "code",
   "execution_count": 12,
   "metadata": {},
   "outputs": [
    {
     "name": "stdout",
     "output_type": "stream",
     "text": [
      "{'file_identifier': None, 'language': 'en', 'hierarchy_level': 'dataset', 'datestamp': None, 'contact': [{'first_name': None, 'last_name': None, 'organisation_name': None, 'position_name': None, 'role_code': ['custodian'], 'delivery_point': None, 'address_city': None, 'administrative_area': None, 'postal_code': None, 'country': None, 'email': None}], 'online_resource': {'linkage': None}}\n"
     ]
    }
   ],
   "source": [
    "md_metadata = {}\n",
    "\n",
    "contact = []\n",
    "person = {}\n",
    "\n",
    "person['first_name'] = None\n",
    "person['last_name'] = None\n",
    "person['organisation_name'] = None\n",
    "person['position_name'] = None\n",
    "person['role_code'] = ['custodian']\n",
    "person['delivery_point'] = None\n",
    "person['address_city'] = None\n",
    "person['administrative_area'] = None\n",
    "person['postal_code'] = None\n",
    "person['country'] = None\n",
    "person['email'] = None\n",
    "\n",
    "contact.append(person)\n",
    "\n",
    "online_resource = {'linkage': None}\n",
    "\n",
    "md_metadata['file_identifier'] = None\n",
    "md_metadata['language'] = 'en'\n",
    "md_metadata['hierarchy_level'] = 'dataset'\n",
    "md_metadata['datestamp'] = None\n",
    "md_metadata['contact'] = contact\n",
    "md_metadata['online_resource'] = online_resource\n",
    "\n",
    "print(md_metadata)"
   ]
  },
  {
   "cell_type": "markdown",
   "metadata": {},
   "source": [
    "### md_identification\n",
    "Metadata related to the dataset"
   ]
  },
  {
   "cell_type": "code",
   "execution_count": 13,
   "metadata": {},
   "outputs": [
    {
     "name": "stdout",
     "output_type": "stream",
     "text": [
      "{'abstract': None, 'title': None, 'identifier': None, 'date': None, 'date_type': None, 'contact': [{'first_name': None, 'last_name': None, 'organisation_name': None, 'position_name': None, 'role_code': ['custodian'], 'delivery_point': None, 'address_city': None, 'administrative_area': None, 'postal_code': None, 'country': None, 'email': None}], 'online_resource': {'linkage': None}}\n"
     ]
    }
   ],
   "source": [
    "md_identification = {}\n",
    "\n",
    "contact = []\n",
    "\n",
    "person['first_name'] = None\n",
    "person['last_name'] = None\n",
    "person['organisation_name'] = None\n",
    "person['position_name'] = None\n",
    "person['role_code'] = ['custodian']\n",
    "person['delivery_point'] = None\n",
    "person['address_city'] = None\n",
    "person['administrative_area'] = None\n",
    "person['postal_code'] = None\n",
    "person['country'] = None\n",
    "person['email'] = None\n",
    "\n",
    "contact.append(person)\n",
    "\n",
    "online_resource = {'linkage':None}\n",
    "\n",
    "md_identification['abstract'] = None\n",
    "md_identification['title'] = None\n",
    "md_identification['identifier'] = None\n",
    "md_identification['date'] = None\n",
    "md_identification['date_type'] = None\n",
    "md_identification['contact'] = contact\n",
    "md_identification['online_resource'] = online_resource\n",
    "\n",
    "print(md_identification)"
   ]
  },
  {
   "cell_type": "markdown",
   "metadata": {},
   "source": [
    "### md_constraints\n",
    "Metadata describing access constraints, data policy and licence"
   ]
  },
  {
   "cell_type": "code",
   "execution_count": 14,
   "metadata": {},
   "outputs": [
    {
     "name": "stdout",
     "output_type": "stream",
     "text": [
      "{'access_constraints': 'otherRestrictions', 'use_constraints': 'otherRestrictions', 'other_constraints': None, 'data_licence': None, 'metadata_licence': None}\n"
     ]
    }
   ],
   "source": [
    "md_constraints = {}\n",
    "\n",
    "md_constraints['access_constraints'] = 'otherRestrictions'\n",
    "md_constraints['use_constraints'] = 'otherRestrictions'\n",
    "md_constraints['other_constraints'] = None\n",
    "md_constraints['data_licence'] = None\n",
    "md_constraints['metadata_licence'] = None\n",
    "\n",
    "print(md_constraints)"
   ]
  },
  {
   "cell_type": "markdown",
   "metadata": {},
   "source": [
    "### md_keywords\n",
    "Keywords for describing the data"
   ]
  },
  {
   "cell_type": "code",
   "execution_count": 17,
   "metadata": {},
   "outputs": [
    {
     "name": "stdout",
     "output_type": "stream",
     "text": [
      "{'keywords': None}\n"
     ]
    }
   ],
   "source": [
    "md_keywords = {}\n",
    "\n",
    "md_keywords['keywords'] =  None\n",
    "\n",
    "print(md_keywords)"
   ]
  },
  {
   "cell_type": "markdown",
   "metadata": {},
   "source": [
    "### md_data_identification\n",
    "Metadata related to the spatial and temporal information of the data generation"
   ]
  },
  {
   "cell_type": "code",
   "execution_count": 18,
   "metadata": {},
   "outputs": [
    {
     "name": "stdout",
     "output_type": "stream",
     "text": [
      "{'language': 'en', 'topic_category': 'climatologyMeteorologyAtmosphere', 'description': None, 'station_wmo_region': None, 'country_name': None, 'station_name': None, 'station_identifier': None}\n"
     ]
    }
   ],
   "source": [
    "md_data_identification = {}\n",
    "\n",
    "language = 'en'\n",
    "topic_category = 'climatologyMeteorologyAtmosphere'\n",
    "\n",
    "md_data_identification['language'] = language\n",
    "md_data_identification['topic_category'] = topic_category\n",
    "md_data_identification['description'] = None\n",
    "md_data_identification['station_wmo_region'] = None\n",
    "md_data_identification['country_name'] = None\n",
    "md_data_identification['station_name'] = None\n",
    "md_data_identification['station_identifier'] = None\n",
    "\n",
    "print(md_data_identification)"
   ]
  },
  {
   "cell_type": "markdown",
   "metadata": {},
   "source": [
    "### ex_geographic_bounding_box\n",
    "Metadata related to the spatial and temporal information of the data generation"
   ]
  },
  {
   "cell_type": "code",
   "execution_count": 19,
   "metadata": {},
   "outputs": [
    {
     "name": "stdout",
     "output_type": "stream",
     "text": [
      "{'west_bound_longitude': None, 'east_bound_longitude': None, 'south_bound_latitude': None, 'north_bound_latitude': None}\n"
     ]
    }
   ],
   "source": [
    "ex_geographic_bounding_box = {}\n",
    "\n",
    "ex_geographic_bounding_box['west_bound_longitude'] = None\n",
    "ex_geographic_bounding_box['east_bound_longitude'] = None\n",
    "ex_geographic_bounding_box['south_bound_latitude'] = None\n",
    "ex_geographic_bounding_box['north_bound_latitude'] = None\n",
    "\n",
    "print(ex_geographic_bounding_box)"
   ]
  },
  {
   "cell_type": "markdown",
   "metadata": {},
   "source": [
    "### ex_temporal_extent\n",
    "Metadata describing the temporal information on the content of the dataset"
   ]
  },
  {
   "cell_type": "code",
   "execution_count": 20,
   "metadata": {},
   "outputs": [
    {
     "name": "stdout",
     "output_type": "stream",
     "text": [
      "{'time_period_begin': None, 'time_period_end': None}\n"
     ]
    }
   ],
   "source": [
    "ex_temporal_extent = {}\n",
    "\n",
    "ex_temporal_extent['time_period_begin'] = None\n",
    "ex_temporal_extent['time_period_end'] = None\n",
    "\n",
    "print(ex_temporal_extent)"
   ]
  },
  {
   "cell_type": "markdown",
   "metadata": {},
   "source": [
    "### ex_vertical_extent\n",
    "Metadata describing the vertical information of instrument"
   ]
  },
  {
   "cell_type": "code",
   "execution_count": 21,
   "metadata": {},
   "outputs": [
    {
     "name": "stdout",
     "output_type": "stream",
     "text": [
      "{'minimum_value': None, 'maximum_value': None, 'unit_of_measure': 'm above sea level'}\n"
     ]
    }
   ],
   "source": [
    "ex_vertical_extent = {}\n",
    "\n",
    "unit_of_measure = 'm above sea level'\n",
    "\n",
    "ex_vertical_extent['minimum_value'] = None #minimum_value\n",
    "ex_vertical_extent['maximum_value'] = None #maximum_value\n",
    "ex_vertical_extent['unit_of_measure'] = unit_of_measure\n",
    "\n",
    "print(ex_vertical_extent)"
   ]
  },
  {
   "cell_type": "markdown",
   "metadata": {},
   "source": [
    "### md_content_information\n",
    "Metadata describing the list of parameters"
   ]
  },
  {
   "cell_type": "code",
   "execution_count": 22,
   "metadata": {},
   "outputs": [
    {
     "name": "stdout",
     "output_type": "stream",
     "text": [
      "{'attribute_description': None, 'content_type': 'physicalMeasurement'}\n"
     ]
    }
   ],
   "source": [
    "md_content_information = {}\n",
    "\n",
    "content_type = 'physicalMeasurement'\n",
    "\n",
    "md_content_information['attribute_description'] = None\n",
    "md_content_information['content_type'] = content_type\n",
    "\n",
    "print(md_content_information)"
   ]
  },
  {
   "cell_type": "markdown",
   "metadata": {},
   "source": [
    "### md_distribution_information\n",
    "Metadata describing how to access the file, and if there are restrictions"
   ]
  },
  {
   "cell_type": "code",
   "execution_count": 23,
   "metadata": {},
   "outputs": [
    {
     "name": "stdout",
     "output_type": "stream",
     "text": [
      "{'data_format': None, 'version_data_format': None, 'transfersize': None, 'dataset_url': None, 'protocol': None, 'description': None, 'function': None, 'restriction': None}\n"
     ]
    }
   ],
   "source": [
    "md_distribution_information = {}\n",
    "\n",
    "restriction = {\"set\": False, \"description_url\": None}\n",
    "\n",
    "md_distribution_information['data_format'] = None\n",
    "md_distribution_information['version_data_format'] = None\n",
    "md_distribution_information['transfersize'] = None\n",
    "md_distribution_information['dataset_url'] = None\n",
    "md_distribution_information['protocol'] = None\n",
    "md_distribution_information['description'] = None\n",
    "md_distribution_information['function'] = None\n",
    "md_distribution_information['restriction'] = None\n",
    "\n",
    "print(md_distribution_information)"
   ]
  },
  {
   "cell_type": "markdown",
   "metadata": {},
   "source": [
    "### dq_data_quality_information\n",
    "Metadata on data quality and collection procedures"
   ]
  },
  {
   "cell_type": "code",
   "execution_count": 24,
   "metadata": {},
   "outputs": [
    {
     "name": "stdout",
     "output_type": "stream",
     "text": [
      "{'level': None, 'statement': None, 'description': None}\n"
     ]
    }
   ],
   "source": [
    "dq_data_quality_information = {}\n",
    "\n",
    "dq_data_quality_information['level'] = None\n",
    "dq_data_quality_information['statement'] = None\n",
    "dq_data_quality_information['description'] = None\n",
    "\n",
    "print(dq_data_quality_information)"
   ]
  },
  {
   "cell_type": "markdown",
   "metadata": {},
   "source": [
    "### md_actris_specific\n",
    "ACTRIS specific metadata, beyond what is required in the WIS profile"
   ]
  },
  {
   "cell_type": "code",
   "execution_count": 25,
   "metadata": {},
   "outputs": [
    {
     "name": "stdout",
     "output_type": "stream",
     "text": [
      "{'platform_type': None, 'product_type': None, 'matrix': None, 'sub_matrix': None, 'instrument_type': None, 'program_affiliation': None, 'legacy_data': None, 'data_level': None, 'data_sublevel': None, 'data_product': None}\n"
     ]
    }
   ],
   "source": [
    "md_actris_specific = {}\n",
    "\n",
    "md_actris_specific['platform_type'] = None\n",
    "md_actris_specific['product_type'] = None\n",
    "md_actris_specific['matrix'] = None\n",
    "md_actris_specific['sub_matrix'] = None\n",
    "md_actris_specific['instrument_type'] = None\n",
    "md_actris_specific['program_affiliation'] = None\n",
    "md_actris_specific['legacy_data'] = None\n",
    "md_actris_specific['data_level'] = None\n",
    "md_actris_specific['data_sublevel'] = None\n",
    "md_actris_specific['data_product'] = None\n",
    "\n",
    "print(md_actris_specific)"
   ]
  },
  {
   "cell_type": "code",
   "execution_count": 26,
   "metadata": {},
   "outputs": [
    {
     "name": "stdout",
     "output_type": "stream",
     "text": [
      "{\"md_metadata\": {\"file_identifier\": null, \"language\": \"en\", \"hierarchy_level\": \"dataset\", \"datestamp\": null, \"contact\": [{\"first_name\": null, \"last_name\": null, \"organisation_name\": null, \"position_name\": null, \"role_code\": [\"custodian\"], \"delivery_point\": null, \"address_city\": null, \"administrative_area\": null, \"postal_code\": null, \"country\": null, \"email\": null}], \"online_resource\": {\"linkage\": null}}, \"md_identification\": {\"abstract\": null, \"title\": null, \"identifier\": null, \"date\": null, \"date_type\": null, \"contact\": [{\"first_name\": null, \"last_name\": null, \"organisation_name\": null, \"position_name\": null, \"role_code\": [\"custodian\"], \"delivery_point\": null, \"address_city\": null, \"administrative_area\": null, \"postal_code\": null, \"country\": null, \"email\": null}], \"online_resource\": {\"linkage\": null}}, \"md_constraints\": {\"access_constraints\": \"otherRestrictions\", \"use_constraints\": \"otherRestrictions\", \"other_constraints\": null, \"data_licence\": null, \"metadata_licence\": null}, \"md_keywords\": {\"keywords\": null}, \"md_data_identification\": {\"language\": \"en\", \"topic_category\": \"climatologyMeteorologyAtmosphere\", \"description\": null, \"station_wmo_region\": null, \"country_name\": null, \"station_name\": null, \"station_identifier\": null}, \"ex_geographic_bounding_box\": {\"west_bound_longitude\": null, \"east_bound_longitude\": null, \"south_bound_latitude\": null, \"north_bound_latitude\": null}, \"ex_temporal_extent\": {\"time_period_begin\": null, \"time_period_end\": null}, \"ex_vertical_extent\": {\"minimum_value\": null, \"maximum_value\": null, \"unit_of_measure\": \"m above sea level\"}, \"md_content_information\": {\"attribute_description\": null, \"content_type\": \"physicalMeasurement\"}, \"md_distribution_information\": {\"data_format\": null, \"version_data_format\": null, \"transfersize\": null, \"dataset_url\": null, \"protocol\": null, \"description\": null, \"function\": null, \"restriction\": null}, \"dq_data_quality_information\": {\"level\": null, \"statement\": null, \"description\": null}, \"md_actris_specific\": {\"platform_type\": null, \"product_type\": null, \"matrix\": null, \"sub_matrix\": null, \"instrument_type\": null, \"program_affiliation\": null, \"legacy_data\": null, \"data_level\": null, \"data_sublevel\": null, \"data_product\": null}}\n"
     ]
    }
   ],
   "source": [
    "metadata = {}\n",
    "\n",
    "metadata['md_metadata'] = md_metadata\n",
    "metadata['md_identification'] = md_identification\n",
    "metadata['md_constraints'] = md_constraints\n",
    "metadata['md_keywords'] = md_keywords\n",
    "metadata['md_data_identification'] = md_data_identification\n",
    "metadata['ex_geographic_bounding_box'] = ex_geographic_bounding_box\n",
    "metadata['ex_temporal_extent'] = ex_temporal_extent\n",
    "metadata['ex_vertical_extent'] = ex_vertical_extent\n",
    "metadata['md_content_information'] = md_content_information\n",
    "metadata['md_distribution_information'] = md_distribution_information\n",
    "metadata['dq_data_quality_information'] = dq_data_quality_information\n",
    "metadata['md_actris_specific'] = md_actris_specific\n",
    "\n",
    "# Convert python dictionary to json\n",
    "md_json = json.dumps(metadata)\n",
    "\n",
    "print(md_json)"
   ]
  },
  {
   "cell_type": "code",
   "execution_count": null,
   "metadata": {},
   "outputs": [],
   "source": []
  },
  {
   "cell_type": "code",
   "execution_count": null,
   "metadata": {},
   "outputs": [],
   "source": []
  }
 ],
 "metadata": {
  "kernelspec": {
   "display_name": "Python 3",
   "language": "python",
   "name": "python3"
  },
  "language_info": {
   "codemirror_mode": {
    "name": "ipython",
    "version": 3
   },
   "file_extension": ".py",
   "mimetype": "text/x-python",
   "name": "python",
   "nbconvert_exporter": "python",
   "pygments_lexer": "ipython3",
   "version": "3.7.4"
  }
 },
 "nbformat": 4,
 "nbformat_minor": 2
}
